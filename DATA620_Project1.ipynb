{
 "cells": [
  {
   "cell_type": "markdown",
   "id": "d0470ccb-ba25-4a42-8584-503dba593c35",
   "metadata": {},
   "source": [
    "### Bishoy Sokkar\n",
    "### Project: Network Analysis of Davis Southern Women Dataset\n",
    "\n",
    "#### Dataset Selection and Description\n",
    "For this project, I selected the Davis Southern Women dataset, a classic bipartite social network dataset. It represents the observed attendance of 18 Southern women at 14 informal social events over a nine-month period in the 1930s, as documented in the ethnographic study \"Deep South\" by Allison Davis, Burleigh B. Gardner, and Mary R. Gardner. The network is undirected and unweighted, with nodes divided into two categorical groups based on the 'bipartite' attribute: women (bipartite=0) and events (bipartite=1). This categorical information allows for comparison of centrality measures across the two groups, similar to comparing sexes in the high school romantic relationships example.\n",
    "\n",
    "Number of Nodes: 32 (18 women, 14 events)\n",
    "Number of Edges: 89\n",
    "Categorical Information: Node type ('women' vs. 'events'), derived from the 'bipartite' attribute.\n",
    "\n",
    "The dataset is publicly available and built into the NetworkX library, making it easy to load without external downloads. Original source: Davis, A., Gardner, B. B., & Gardner, M. R. (1941). Deep South: A Social Anthropological Study of Caste and Class. University of Chicago Press.\n",
    "Links:\n",
    "\n",
    "NetworkX documentation and generator: https://networkx.org/documentation/stable/reference/generated/networkx.generators.bipartite.davis_southern_women_graph.html\n",
    "Wikipedia overview of the dataset: https://en.wikipedia.org/wiki/Southern_women_data_set\n",
    "\n",
    "Methodology\n",
    "The analysis was performed in Python using NetworkX for network operations, NumPy for numerical computations, and SciPy for statistical testing. The steps are as follows:\n",
    "\n",
    "Load the Dataset: Used nx.davis_southern_women_graph() to load the graph.\n",
    "Calculate Centrality Measures:\n",
    "\n",
    "Degree Centrality: Normalized number of direct connections (attendances), divided by (n-1) where n=32.\n",
    "Eigenvector Centrality: Measures influence based on connections to other influential nodes, computed using NetworkX's default method.\n",
    "\n",
    "\n",
    "Group by Category: Divided nodes into 'women' and 'events' based on the 'bipartite' node attribute.\n",
    "Compare Measures: Computed mean centrality values for each group and used an independent two-sample t-test (assuming unequal variances) to assess statistical differences.\n",
    "\n",
    "This approach aligns with SNA concepts from Chapters 1-4, including bipartite graph representation, centrality measures, and subgroup analysis.\n",
    "Python Code"
   ]
  },
  {
   "cell_type": "code",
   "execution_count": null,
   "id": "5d3b0c50-28ae-468b-8c33-70748cac6440",
   "metadata": {},
   "outputs": [],
   "source": []
  },
  {
   "cell_type": "code",
   "execution_count": 1,
   "id": "19ce9fcd-02dc-4ae4-8701-373fd8f9dc5a",
   "metadata": {},
   "outputs": [
    {
     "name": "stdout",
     "output_type": "stream",
     "text": [
      "    Group  Number of Nodes  Mean Degree Centrality  \\\n",
      "0   Women               18                0.159498   \n",
      "1  Events               14                0.205069   \n",
      "\n",
      "   Mean Eigenvector Centrality  \n",
      "0                     0.156621  \n",
      "1                     0.168133  \n",
      "\n",
      "Degree Centrality t-test: t = -1.390, p-value = 0.175\n",
      "Eigenvector Centrality t-test: t = -0.439, p-value = 0.664\n"
     ]
    }
   ],
   "source": [
    "import networkx as nx\n",
    "import numpy as np\n",
    "from scipy.stats import ttest_ind\n",
    "import pandas as pd  # For displaying results in a table\n",
    "\n",
    "# Load the dataset\n",
    "G = nx.davis_southern_women_graph()\n",
    "\n",
    "# Calculate centrality measures\n",
    "degree = nx.degree_centrality(G)\n",
    "eigen = nx.eigenvector_centrality(G)\n",
    "\n",
    "# Group nodes by category\n",
    "women = [n for n in G.nodes if G.nodes[n]['bipartite'] == 0]\n",
    "events = [n for n in G.nodes if G.nodes[n]['bipartite'] == 1]\n",
    "\n",
    "# Extract centrality values for each group\n",
    "deg_w = [degree[n] for n in women]\n",
    "deg_e = [degree[n] for n in events]\n",
    "eig_w = [eigen[n] for n in women]\n",
    "eig_e = [eigen[n] for n in events]\n",
    "\n",
    "# Compute means\n",
    "mean_deg_w = np.mean(deg_w)\n",
    "mean_deg_e = np.mean(deg_e)\n",
    "mean_eig_w = np.mean(eig_w)\n",
    "mean_eig_e = np.mean(eig_e)\n",
    "\n",
    "# Perform t-tests\n",
    "t_deg, p_deg = ttest_ind(deg_w, deg_e)\n",
    "t_eig, p_eig = ttest_ind(eig_w, eig_e)\n",
    "\n",
    "# Display results in a table\n",
    "data = {\n",
    "    'Group': ['Women', 'Events'],\n",
    "    'Number of Nodes': [len(women), len(events)],\n",
    "    'Mean Degree Centrality': [mean_deg_w, mean_deg_e],\n",
    "    'Mean Eigenvector Centrality': [mean_eig_w, mean_eig_e]\n",
    "}\n",
    "df = pd.DataFrame(data)\n",
    "print(df)\n",
    "\n",
    "# Print t-test results\n",
    "print(f\"\\nDegree Centrality t-test: t = {t_deg:.3f}, p-value = {p_deg:.3f}\")\n",
    "print(f\"Eigenvector Centrality t-test: t = {t_eig:.3f}, p-value = {p_eig:.3f}\")"
   ]
  },
  {
   "cell_type": "markdown",
   "id": "a22395a3-2d4d-4806-ba61-ba854b7a5538",
   "metadata": {},
   "source": [
    "#### Degree Centrality Comparison:\n",
    "\n",
    "- Events have a higher mean degree centrality (0.205) compared to women (0.159), indicating that events, on average, connect to more women than women attend events. This makes sense in a bipartite network where events can have multiple attendees.\n",
    "- t-test results: t = -1.390, p-value = 0.175 (not statistically significant at α=0.05). There is no strong evidence of a difference in degree centrality between women and events.\n",
    "\n",
    "\n",
    "#### Eigenvector Centrality Comparison:\n",
    "\n",
    "- Events have a slightly higher mean eigenvector centrality (0.168) than women (0.157), suggesting events may be marginally more influential in the network structure, possibly due to connecting prominent women.\n",
    "- t-test results: t = -0.439, p-value = 0.664 (not statistically significant at α=0.05). No evidence of meaningful differences between groups.\n",
    "\n",
    "\n",
    "#### Discussion\n",
    "The results show modest differences in centrality, with events appearing more central, which reflects the bipartite nature—events act as hubs connecting multiple women, embodying homophily within attendance patterns. However, the lack of statistical significance (high p-values) suggests these differences could be due to chance, given the small sample sizes. This analysis demonstrates how SNA can reveal structural roles in social groups. For future extensions, one could project the bipartite graph to a unipartite women network and analyze cliques or communities. The code can be run in a Jupyter Notebook for visualization (e.g., adding nx.draw(G))."
   ]
  },
  {
   "cell_type": "code",
   "execution_count": null,
   "id": "65e21269-ca09-4884-a154-b7feea20ffff",
   "metadata": {},
   "outputs": [],
   "source": []
  }
 ],
 "metadata": {
  "kernelspec": {
   "display_name": "Python [conda env:base] *",
   "language": "python",
   "name": "conda-base-py"
  },
  "language_info": {
   "codemirror_mode": {
    "name": "ipython",
    "version": 3
   },
   "file_extension": ".py",
   "mimetype": "text/x-python",
   "name": "python",
   "nbconvert_exporter": "python",
   "pygments_lexer": "ipython3",
   "version": "3.12.3"
  }
 },
 "nbformat": 4,
 "nbformat_minor": 5
}
