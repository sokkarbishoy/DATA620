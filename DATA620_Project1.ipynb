{
 "cells": [
  {
   "cell_type": "markdown",
   "id": "d0470ccb-ba25-4a42-8584-503dba593c35",
   "metadata": {},
   "source": [
    "### Bishoy Sokkar\n",
    "### Project: Network Analysis of Davis Southern Women Dataset\n",
    "\n",
    "#### Dataset Selection and Description\n",
    "\n",
    "\n"
   ]
  },
  {
   "cell_type": "code",
   "execution_count": 14,
   "id": "65e21269-ca09-4884-a154-b7feea20ffff",
   "metadata": {},
   "outputs": [
    {
     "name": "stdout",
     "output_type": "stream",
     "text": [
      "Working directory: C:\\Users\\PC\\Documents\\DS MS\\DATA 620\\Data 620 Github\\DATA620\n",
      "Checking C:\\Users\\PC\\Documents\\DS MS\\DATA 620\\Data 620 Github\\DATA620\\musae_facebook_edges: False\n",
      "Checking C:\\Users\\PC\\Documents\\DS MS\\DATA 620\\Data 620 Github\\DATA620\\musae_facebook_target: False\n"
     ]
    },
    {
     "ename": "FileNotFoundError",
     "evalue": "Files not found at C:\\Users\\PC\\Documents\\DS MS\\DATA 620\\Data 620 Github\\DATA620\\musae_facebook_edges or C:\\Users\\PC\\Documents\\DS MS\\DATA 620\\Data 620 Github\\DATA620\\musae_facebook_target. Please ensure musae_facebook_edges and musae_facebook_target are at C:\\Users\\PC\\Documents\\DS MS\\DATA 620\\Data 620 Github\\, or update paths above.",
     "output_type": "error",
     "traceback": [
      "\u001b[1;31m---------------------------------------------------------------------------\u001b[0m",
      "\u001b[1;31mFileNotFoundError\u001b[0m                         Traceback (most recent call last)",
      "Cell \u001b[1;32mIn[14], line 19\u001b[0m\n\u001b[0;32m     17\u001b[0m \u001b[38;5;66;03m# Check if files exist\u001b[39;00m\n\u001b[0;32m     18\u001b[0m \u001b[38;5;28;01mif\u001b[39;00m \u001b[38;5;129;01mnot\u001b[39;00m (os\u001b[38;5;241m.\u001b[39mpath\u001b[38;5;241m.\u001b[39mexists(edges_path) \u001b[38;5;129;01mand\u001b[39;00m os\u001b[38;5;241m.\u001b[39mpath\u001b[38;5;241m.\u001b[39mexists(target_path)):\n\u001b[1;32m---> 19\u001b[0m     \u001b[38;5;28;01mraise\u001b[39;00m \u001b[38;5;167;01mFileNotFoundError\u001b[39;00m(\n\u001b[0;32m     20\u001b[0m         \u001b[38;5;124mf\u001b[39m\u001b[38;5;124m\"\u001b[39m\u001b[38;5;124mFiles not found at \u001b[39m\u001b[38;5;132;01m{\u001b[39;00medges_path\u001b[38;5;132;01m}\u001b[39;00m\u001b[38;5;124m or \u001b[39m\u001b[38;5;132;01m{\u001b[39;00mtarget_path\u001b[38;5;132;01m}\u001b[39;00m\u001b[38;5;124m. \u001b[39m\u001b[38;5;124m\"\u001b[39m\n\u001b[0;32m     21\u001b[0m         \u001b[38;5;124m\"\u001b[39m\u001b[38;5;124mPlease ensure musae_facebook_edges and musae_facebook_target are at \u001b[39m\u001b[38;5;124m\"\u001b[39m\n\u001b[0;32m     22\u001b[0m         \u001b[38;5;124m\"\u001b[39m\u001b[38;5;124mC:\u001b[39m\u001b[38;5;130;01m\\\\\u001b[39;00m\u001b[38;5;124mUsers\u001b[39m\u001b[38;5;130;01m\\\\\u001b[39;00m\u001b[38;5;124mPC\u001b[39m\u001b[38;5;130;01m\\\\\u001b[39;00m\u001b[38;5;124mDocuments\u001b[39m\u001b[38;5;130;01m\\\\\u001b[39;00m\u001b[38;5;124mDS MS\u001b[39m\u001b[38;5;130;01m\\\\\u001b[39;00m\u001b[38;5;124mDATA 620\u001b[39m\u001b[38;5;130;01m\\\\\u001b[39;00m\u001b[38;5;124mData 620 Github\u001b[39m\u001b[38;5;130;01m\\\\\u001b[39;00m\u001b[38;5;124m, or update paths above.\u001b[39m\u001b[38;5;124m\"\u001b[39m\n\u001b[0;32m     23\u001b[0m     )\n\u001b[0;32m     25\u001b[0m \u001b[38;5;66;03m# Attempt to load edges file (try common delimiters)\u001b[39;00m\n\u001b[0;32m     26\u001b[0m \u001b[38;5;28;01mtry\u001b[39;00m:\n",
      "\u001b[1;31mFileNotFoundError\u001b[0m: Files not found at C:\\Users\\PC\\Documents\\DS MS\\DATA 620\\Data 620 Github\\DATA620\\musae_facebook_edges or C:\\Users\\PC\\Documents\\DS MS\\DATA 620\\Data 620 Github\\DATA620\\musae_facebook_target. Please ensure musae_facebook_edges and musae_facebook_target are at C:\\Users\\PC\\Documents\\DS MS\\DATA 620\\Data 620 Github\\, or update paths above."
     ]
    }
   ],
   "source": [
    "import networkx as nx\n",
    "import numpy as np\n",
    "from scipy.stats import f_oneway\n",
    "import pandas as pd\n",
    "import matplotlib.pyplot as plt\n",
    "import os\n",
    "\n",
    "# Define absolute file paths based on provided location\n",
    "edges_path = 'C:\\\\Users\\\\PC\\\\Documents\\\\DS MS\\\\DATA 620\\\\Data 620 Github\\\\DATA620\\\\musae_facebook_edges'\n",
    "target_path = 'C:\\\\Users\\\\PC\\\\Documents\\\\DS MS\\\\DATA 620\\\\Data 620 Github\\\\DATA620\\\\musae_facebook_target'\n",
    "\n",
    "# Debug: Print working directory and file existence\n",
    "print(f\"Working directory: {os.getcwd()}\")\n",
    "print(f\"Checking {edges_path}: {os.path.exists(edges_path)}\")\n",
    "print(f\"Checking {target_path}: {os.path.exists(target_path)}\")\n",
    "\n",
    "# Check if files exist\n",
    "if not (os.path.exists(edges_path) and os.path.exists(target_path)):\n",
    "    raise FileNotFoundError(\n",
    "        f\"Files not found at {edges_path} or {target_path}. \"\n",
    "        \"Please ensure musae_facebook_edges and musae_facebook_target are at \"\n",
    "        \"C:\\\\Users\\\\PC\\\\Documents\\\\DS MS\\\\DATA 620\\\\Data 620 Github\\\\, or update paths above.\"\n",
    "    )\n",
    "\n",
    "# Attempt to load edges file (try common delimiters)\n",
    "try:\n",
    "    edges = pd.read_csv(edges_path, header=None, names=['source', 'target'], sep=None, engine='python')\n",
    "except pd.errors.ParserError:\n",
    "    edges = pd.read_csv(edges_path, header=None, names=['source', 'target'], sep=r'\\s+', engine='python')\n",
    "\n",
    "G = nx.from_pandas_edgelist(edges, 'source', 'target')\n",
    "\n",
    "# Load labels and set as node attributes\n",
    "try:\n",
    "    targets = pd.read_csv(target_path, sep=None, engine='python')\n",
    "    label_dict = targets.set_index('id')['ml_target'].to_dict()\n",
    "    nx.set_node_attributes(G, label_dict, 'label')\n",
    "except pd.errors.ParserError:\n",
    "    targets = pd.read_csv(target_path, sep=r'\\s+', engine='python')\n",
    "    label_dict = targets.set_index('id')['ml_target'].to_dict()\n",
    "    nx.set_node_attributes(G, label_dict, 'label')\n",
    "\n",
    "# Calculate centrality measures\n",
    "degree = nx.degree_centrality(G)\n",
    "eigen = nx.eigenvector_centrality(G, max_iter=500)\n",
    "\n",
    "# Group nodes by category (ml_target 0-3)\n",
    "groups = {0: [], 1: [], 2: [], 3: []}\n",
    "for n in G.nodes:\n",
    "    l = G.nodes[n].get('label')\n",
    "    if l is not None:\n",
    "        groups[l].append(n)\n",
    "\n",
    "# Extract centrality values for each group\n",
    "deg_groups = [[degree[n] for n in group] for group in groups.values()]\n",
    "eig_groups = [[eigen[n] for n in group] for group in groups.values()]\n",
    "\n",
    "# Compute means\n",
    "results = {\n",
    "    'Category': ['Politicians', 'Governmental', 'TV Shows', 'Companies'],\n",
    "    'Nodes': [len(group) for group in groups.values()],\n",
    "    'Mean Degree Centrality': [np.mean(d) for d in deg_groups],\n",
    "    'Mean Eigenvector Centrality': [np.mean(e) for e in eig_groups]\n",
    "}\n",
    "df = pd.DataFrame(results)\n",
    "print(\"Centrality Comparison:\")\n",
    "print(df)\n",
    "\n",
    "# ANOVA tests\n",
    "f_deg, p_deg = f_oneway(*deg_groups)\n",
    "f_eig, p_eig = f_oneway(*eig_groups)\n",
    "print(f\"\\nDegree Centrality ANOVA: F = {f_deg:.3f}, p = {p_deg:.3f}\")\n",
    "print(f\"Eigenvector Centrality ANOVA: F = {f_eig:.3f}, p = {p_eig:.3f}\")\n",
    "\n",
    "# Visualize a subsample (full graph too large)\n",
    "sub_G = G.subgraph(list(G.nodes)[:500])\n",
    "pos = nx.spring_layout(sub_G)\n",
    "colors = ['red' if sub_G.nodes[n].get('label') == 0 else 'blue' if sub_G.nodes[n].get('label') == 1 else 'green' if sub_G.nodes[n].get('label') == 2 else 'yellow' for n in sub_G.nodes]\n",
    "plt.figure(figsize=(6, 4))\n",
    "nx.draw(sub_G, pos, node_color=colors, node_size=20, edge_color='gray')\n",
    "plt.title(\"Subsample of Facebook Page-Page Network (colored by category)\")\n",
    "plt.legend(['Politicians', 'Governmental', 'TV Shows', 'Companies'])\n",
    "plt.show()\n"
   ]
  },
  {
   "cell_type": "code",
   "execution_count": null,
   "id": "439bdaec-2fc2-4dca-966e-6b04e99e9553",
   "metadata": {},
   "outputs": [],
   "source": []
  },
  {
   "cell_type": "code",
   "execution_count": null,
   "id": "5318a16e-1815-4be7-873d-ecf3c2638666",
   "metadata": {},
   "outputs": [],
   "source": []
  },
  {
   "cell_type": "code",
   "execution_count": null,
   "id": "ee14c25f-47d0-4bd8-8aa2-4b832cf0d799",
   "metadata": {},
   "outputs": [],
   "source": []
  }
 ],
 "metadata": {
  "kernelspec": {
   "display_name": "Python [conda env:base] *",
   "language": "python",
   "name": "conda-base-py"
  },
  "language_info": {
   "codemirror_mode": {
    "name": "ipython",
    "version": 3
   },
   "file_extension": ".py",
   "mimetype": "text/x-python",
   "name": "python",
   "nbconvert_exporter": "python",
   "pygments_lexer": "ipython3",
   "version": "3.12.3"
  }
 },
 "nbformat": 4,
 "nbformat_minor": 5
}
